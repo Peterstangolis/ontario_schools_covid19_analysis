{
 "cells": [
  {
   "cell_type": "markdown",
   "metadata": {},
   "source": [
    "# ONTARIO Population COVID-19 Data set from: [data.ontario.ca](https://data.ontario.ca/dataset/confirmed-positive-cases-of-covid-19-in-ontario)"
   ]
  },
  {
   "cell_type": "markdown",
   "metadata": {},
   "source": [
    "### Import Required LIbraries"
   ]
  },
  {
   "cell_type": "code",
   "execution_count": 37,
   "metadata": {},
   "outputs": [],
   "source": [
    "import pandas as pd\n",
    "import numpy as np\n",
    "\n",
    "import datetime as dt\n",
    "\n",
    "import matplotlib.pyplot as plt\n",
    "%matplotlib inline"
   ]
  },
  {
   "cell_type": "markdown",
   "metadata": {},
   "source": [
    "### Import the data set from a url"
   ]
  },
  {
   "cell_type": "code",
   "execution_count": 11,
   "metadata": {},
   "outputs": [
    {
     "data": {
      "text/html": [
       "<div>\n",
       "<style scoped>\n",
       "    .dataframe tbody tr th:only-of-type {\n",
       "        vertical-align: middle;\n",
       "    }\n",
       "\n",
       "    .dataframe tbody tr th {\n",
       "        vertical-align: top;\n",
       "    }\n",
       "\n",
       "    .dataframe thead th {\n",
       "        text-align: right;\n",
       "    }\n",
       "</style>\n",
       "<table border=\"1\" class=\"dataframe\">\n",
       "  <thead>\n",
       "    <tr style=\"text-align: right;\">\n",
       "      <th></th>\n",
       "      <th>Row_ID</th>\n",
       "      <th>Accurate_Episode_Date</th>\n",
       "      <th>Case_Reported_Date</th>\n",
       "      <th>Test_Reported_Date</th>\n",
       "      <th>Specimen_Date</th>\n",
       "      <th>Age_Group</th>\n",
       "      <th>Client_Gender</th>\n",
       "      <th>Case_AcquisitionInfo</th>\n",
       "      <th>Outcome1</th>\n",
       "      <th>Outbreak_Related</th>\n",
       "      <th>Reporting_PHU</th>\n",
       "      <th>Reporting_PHU_Address</th>\n",
       "      <th>Reporting_PHU_City</th>\n",
       "      <th>Reporting_PHU_Postal_Code</th>\n",
       "      <th>Reporting_PHU_Website</th>\n",
       "      <th>Reporting_PHU_Latitude</th>\n",
       "      <th>Reporting_PHU_Longitude</th>\n",
       "    </tr>\n",
       "  </thead>\n",
       "  <tbody>\n",
       "    <tr>\n",
       "      <th>100785</th>\n",
       "      <td>100786</td>\n",
       "      <td>2020-10-06</td>\n",
       "      <td>2020-10-14</td>\n",
       "      <td>2020-10-14</td>\n",
       "      <td>2020-10-11</td>\n",
       "      <td>30s</td>\n",
       "      <td>MALE</td>\n",
       "      <td>CC</td>\n",
       "      <td>Resolved</td>\n",
       "      <td>NaN</td>\n",
       "      <td>York Region Public Health Services</td>\n",
       "      <td>17250 Yonge Street</td>\n",
       "      <td>Newmarket</td>\n",
       "      <td>L3Y 6Z1</td>\n",
       "      <td>www.york.ca/wps/portal/yorkhome/health/</td>\n",
       "      <td>44.048023</td>\n",
       "      <td>-79.480239</td>\n",
       "    </tr>\n",
       "    <tr>\n",
       "      <th>100786</th>\n",
       "      <td>100787</td>\n",
       "      <td>2020-11-03</td>\n",
       "      <td>2020-11-05</td>\n",
       "      <td>2020-11-05</td>\n",
       "      <td>2020-11-04</td>\n",
       "      <td>60s</td>\n",
       "      <td>FEMALE</td>\n",
       "      <td>OB</td>\n",
       "      <td>Resolved</td>\n",
       "      <td>Yes</td>\n",
       "      <td>Peel Public Health</td>\n",
       "      <td>7120 Hurontario Street</td>\n",
       "      <td>Mississauga</td>\n",
       "      <td>L5W 1N4</td>\n",
       "      <td>www.peelregion.ca/health/</td>\n",
       "      <td>43.647471</td>\n",
       "      <td>-79.708893</td>\n",
       "    </tr>\n",
       "    <tr>\n",
       "      <th>100787</th>\n",
       "      <td>100788</td>\n",
       "      <td>2020-03-18</td>\n",
       "      <td>2020-04-07</td>\n",
       "      <td>2020-04-07</td>\n",
       "      <td>2020-04-06</td>\n",
       "      <td>30s</td>\n",
       "      <td>FEMALE</td>\n",
       "      <td>CC</td>\n",
       "      <td>Resolved</td>\n",
       "      <td>NaN</td>\n",
       "      <td>Toronto Public Health</td>\n",
       "      <td>277 Victoria Street, 5th Floor</td>\n",
       "      <td>Toronto</td>\n",
       "      <td>M5B 1W2</td>\n",
       "      <td>www.toronto.ca/community-people/health-wellnes...</td>\n",
       "      <td>43.656591</td>\n",
       "      <td>-79.379358</td>\n",
       "    </tr>\n",
       "    <tr>\n",
       "      <th>100788</th>\n",
       "      <td>100789</td>\n",
       "      <td>2020-09-07</td>\n",
       "      <td>2020-09-17</td>\n",
       "      <td>2020-09-17</td>\n",
       "      <td>2020-09-17</td>\n",
       "      <td>40s</td>\n",
       "      <td>MALE</td>\n",
       "      <td>CC</td>\n",
       "      <td>Resolved</td>\n",
       "      <td>NaN</td>\n",
       "      <td>Wellington-Dufferin-Guelph Public Health</td>\n",
       "      <td>160 Chancellors Way</td>\n",
       "      <td>Guelph</td>\n",
       "      <td>N1G 0E1</td>\n",
       "      <td>www.wdgpublichealth.ca</td>\n",
       "      <td>43.524881</td>\n",
       "      <td>-80.233743</td>\n",
       "    </tr>\n",
       "    <tr>\n",
       "      <th>100789</th>\n",
       "      <td>100790</td>\n",
       "      <td>2020-09-11</td>\n",
       "      <td>2020-09-13</td>\n",
       "      <td>2020-09-13</td>\n",
       "      <td>2020-09-11</td>\n",
       "      <td>30s</td>\n",
       "      <td>MALE</td>\n",
       "      <td>CC</td>\n",
       "      <td>Resolved</td>\n",
       "      <td>NaN</td>\n",
       "      <td>Toronto Public Health</td>\n",
       "      <td>277 Victoria Street, 5th Floor</td>\n",
       "      <td>Toronto</td>\n",
       "      <td>M5B 1W2</td>\n",
       "      <td>www.toronto.ca/community-people/health-wellnes...</td>\n",
       "      <td>43.656591</td>\n",
       "      <td>-79.379358</td>\n",
       "    </tr>\n",
       "  </tbody>\n",
       "</table>\n",
       "</div>"
      ],
      "text/plain": [
       "        Row_ID Accurate_Episode_Date Case_Reported_Date Test_Reported_Date  \\\n",
       "100785  100786            2020-10-06         2020-10-14         2020-10-14   \n",
       "100786  100787            2020-11-03         2020-11-05         2020-11-05   \n",
       "100787  100788            2020-03-18         2020-04-07         2020-04-07   \n",
       "100788  100789            2020-09-07         2020-09-17         2020-09-17   \n",
       "100789  100790            2020-09-11         2020-09-13         2020-09-13   \n",
       "\n",
       "       Specimen_Date Age_Group Client_Gender Case_AcquisitionInfo  Outcome1  \\\n",
       "100785    2020-10-11       30s          MALE                   CC  Resolved   \n",
       "100786    2020-11-04       60s        FEMALE                   OB  Resolved   \n",
       "100787    2020-04-06       30s        FEMALE                   CC  Resolved   \n",
       "100788    2020-09-17       40s          MALE                   CC  Resolved   \n",
       "100789    2020-09-11       30s          MALE                   CC  Resolved   \n",
       "\n",
       "       Outbreak_Related                             Reporting_PHU  \\\n",
       "100785              NaN        York Region Public Health Services   \n",
       "100786              Yes                        Peel Public Health   \n",
       "100787              NaN                     Toronto Public Health   \n",
       "100788              NaN  Wellington-Dufferin-Guelph Public Health   \n",
       "100789              NaN                     Toronto Public Health   \n",
       "\n",
       "                 Reporting_PHU_Address Reporting_PHU_City  \\\n",
       "100785              17250 Yonge Street          Newmarket   \n",
       "100786          7120 Hurontario Street        Mississauga   \n",
       "100787  277 Victoria Street, 5th Floor            Toronto   \n",
       "100788             160 Chancellors Way             Guelph   \n",
       "100789  277 Victoria Street, 5th Floor            Toronto   \n",
       "\n",
       "       Reporting_PHU_Postal_Code  \\\n",
       "100785                   L3Y 6Z1   \n",
       "100786                   L5W 1N4   \n",
       "100787                   M5B 1W2   \n",
       "100788                   N1G 0E1   \n",
       "100789                   M5B 1W2   \n",
       "\n",
       "                                    Reporting_PHU_Website  \\\n",
       "100785           www.york.ca/wps/portal/yorkhome/health/    \n",
       "100786                          www.peelregion.ca/health/   \n",
       "100787  www.toronto.ca/community-people/health-wellnes...   \n",
       "100788                             www.wdgpublichealth.ca   \n",
       "100789  www.toronto.ca/community-people/health-wellnes...   \n",
       "\n",
       "        Reporting_PHU_Latitude  Reporting_PHU_Longitude  \n",
       "100785               44.048023               -79.480239  \n",
       "100786               43.647471               -79.708893  \n",
       "100787               43.656591               -79.379358  \n",
       "100788               43.524881               -80.233743  \n",
       "100789               43.656591               -79.379358  "
      ]
     },
     "execution_count": 11,
     "metadata": {},
     "output_type": "execute_result"
    }
   ],
   "source": [
    "url = 'https://data.ontario.ca/dataset/f4112442-bdc8-45d2-be3c-12efae72fb27/resource/455fd63b-603d-4608-8216-7d8647f43350/download/conposcovidloc.csv'\n",
    "\n",
    "df = pd.read_csv(url)\n",
    "\n",
    "df.tail()"
   ]
  },
  {
   "cell_type": "code",
   "execution_count": null,
   "metadata": {},
   "outputs": [],
   "source": []
  },
  {
   "cell_type": "code",
   "execution_count": 12,
   "metadata": {},
   "outputs": [
    {
     "name": "stdout",
     "output_type": "stream",
     "text": [
      "2020-01-27 00:00:00\n",
      "2020-11-19 00:00:00\n"
     ]
    }
   ],
   "source": [
    "df['Test_Reported_Date'] = pd.to_datetime(df['Test_Reported_Date'])\n",
    "print(min(df['Test_Reported_Date']))\n",
    "print(max(df['Test_Reported_Date']))"
   ]
  },
  {
   "cell_type": "markdown",
   "metadata": {},
   "source": [
    "## Filter the Test Reported Date to June 1, 2020 > Last Reported Date"
   ]
  },
  {
   "cell_type": "code",
   "execution_count": 13,
   "metadata": {},
   "outputs": [],
   "source": [
    "start_date = '2020-06-01'\n",
    "df = df[df['Test_Reported_Date'] >= start_date] "
   ]
  },
  {
   "cell_type": "code",
   "execution_count": 14,
   "metadata": {},
   "outputs": [
    {
     "name": "stdout",
     "output_type": "stream",
     "text": [
      "2020-06-01 00:00:00\n"
     ]
    }
   ],
   "source": [
    "df['Test_Reported_Date'] = pd.to_datetime(df['Test_Reported_Date'])\n",
    "print(min(df['Test_Reported_Date']))"
   ]
  },
  {
   "cell_type": "code",
   "execution_count": 17,
   "metadata": {},
   "outputs": [
    {
     "data": {
      "text/plain": [
       "array(['30s', '50s', '20s', '40s', '<20', '60s', '80s', '70s', '90s', nan,\n",
       "       'UNKNOWN'], dtype=object)"
      ]
     },
     "execution_count": 17,
     "metadata": {},
     "output_type": "execute_result"
    }
   ],
   "source": [
    "df['Age_Group'].unique()"
   ]
  },
  {
   "cell_type": "code",
   "execution_count": 29,
   "metadata": {},
   "outputs": [],
   "source": [
    "df_age20andbelow = df[df['Age_Group'] == '<20']"
   ]
  },
  {
   "cell_type": "code",
   "execution_count": 30,
   "metadata": {},
   "outputs": [],
   "source": [
    "df2 = df_age20andbelow[[\"Test_Reported_Date\", \"Age_Group\", \"Reporting_PHU_City\"]]"
   ]
  },
  {
   "cell_type": "code",
   "execution_count": 31,
   "metadata": {},
   "outputs": [
    {
     "data": {
      "text/html": [
       "<div>\n",
       "<style scoped>\n",
       "    .dataframe tbody tr th:only-of-type {\n",
       "        vertical-align: middle;\n",
       "    }\n",
       "\n",
       "    .dataframe tbody tr th {\n",
       "        vertical-align: top;\n",
       "    }\n",
       "\n",
       "    .dataframe thead th {\n",
       "        text-align: right;\n",
       "    }\n",
       "</style>\n",
       "<table border=\"1\" class=\"dataframe\">\n",
       "  <thead>\n",
       "    <tr style=\"text-align: right;\">\n",
       "      <th></th>\n",
       "      <th>Test_Reported_Date</th>\n",
       "      <th>Age_Group</th>\n",
       "      <th>Reporting_PHU_City</th>\n",
       "    </tr>\n",
       "  </thead>\n",
       "  <tbody>\n",
       "    <tr>\n",
       "      <th>11</th>\n",
       "      <td>2020-11-08</td>\n",
       "      <td>&lt;20</td>\n",
       "      <td>St. Thomas</td>\n",
       "    </tr>\n",
       "    <tr>\n",
       "      <th>22</th>\n",
       "      <td>2020-11-12</td>\n",
       "      <td>&lt;20</td>\n",
       "      <td>St. Thomas</td>\n",
       "    </tr>\n",
       "    <tr>\n",
       "      <th>41</th>\n",
       "      <td>2020-11-18</td>\n",
       "      <td>&lt;20</td>\n",
       "      <td>St. Thomas</td>\n",
       "    </tr>\n",
       "    <tr>\n",
       "      <th>42</th>\n",
       "      <td>2020-10-25</td>\n",
       "      <td>&lt;20</td>\n",
       "      <td>St. Thomas</td>\n",
       "    </tr>\n",
       "    <tr>\n",
       "      <th>44</th>\n",
       "      <td>2020-11-09</td>\n",
       "      <td>&lt;20</td>\n",
       "      <td>St. Thomas</td>\n",
       "    </tr>\n",
       "  </tbody>\n",
       "</table>\n",
       "</div>"
      ],
      "text/plain": [
       "   Test_Reported_Date Age_Group Reporting_PHU_City\n",
       "11         2020-11-08       <20         St. Thomas\n",
       "22         2020-11-12       <20         St. Thomas\n",
       "41         2020-11-18       <20         St. Thomas\n",
       "42         2020-10-25       <20         St. Thomas\n",
       "44         2020-11-09       <20         St. Thomas"
      ]
     },
     "execution_count": 31,
     "metadata": {},
     "output_type": "execute_result"
    }
   ],
   "source": [
    "df2.head()"
   ]
  },
  {
   "cell_type": "code",
   "execution_count": 42,
   "metadata": {},
   "outputs": [
    {
     "name": "stderr",
     "output_type": "stream",
     "text": [
      "C:\\Users\\P\\anaconda3\\envs\\py37\\lib\\site-packages\\ipykernel_launcher.py:1: SettingWithCopyWarning: \n",
      "A value is trying to be set on a copy of a slice from a DataFrame.\n",
      "Try using .loc[row_indexer,col_indexer] = value instead\n",
      "\n",
      "See the caveats in the documentation: https://pandas.pydata.org/pandas-docs/stable/user_guide/indexing.html#returning-a-view-versus-a-copy\n",
      "  \"\"\"Entry point for launching an IPython kernel.\n"
     ]
    },
    {
     "data": {
      "text/html": [
       "<div>\n",
       "<style scoped>\n",
       "    .dataframe tbody tr th:only-of-type {\n",
       "        vertical-align: middle;\n",
       "    }\n",
       "\n",
       "    .dataframe tbody tr th {\n",
       "        vertical-align: top;\n",
       "    }\n",
       "\n",
       "    .dataframe thead th {\n",
       "        text-align: right;\n",
       "    }\n",
       "</style>\n",
       "<table border=\"1\" class=\"dataframe\">\n",
       "  <thead>\n",
       "    <tr style=\"text-align: right;\">\n",
       "      <th></th>\n",
       "      <th>Test_Reported_Date</th>\n",
       "      <th>Case</th>\n",
       "    </tr>\n",
       "  </thead>\n",
       "  <tbody>\n",
       "    <tr>\n",
       "      <th>11</th>\n",
       "      <td>2020-11-08</td>\n",
       "      <td>1</td>\n",
       "    </tr>\n",
       "    <tr>\n",
       "      <th>22</th>\n",
       "      <td>2020-11-12</td>\n",
       "      <td>1</td>\n",
       "    </tr>\n",
       "    <tr>\n",
       "      <th>41</th>\n",
       "      <td>2020-11-18</td>\n",
       "      <td>1</td>\n",
       "    </tr>\n",
       "    <tr>\n",
       "      <th>42</th>\n",
       "      <td>2020-10-25</td>\n",
       "      <td>1</td>\n",
       "    </tr>\n",
       "    <tr>\n",
       "      <th>44</th>\n",
       "      <td>2020-11-09</td>\n",
       "      <td>1</td>\n",
       "    </tr>\n",
       "  </tbody>\n",
       "</table>\n",
       "</div>"
      ],
      "text/plain": [
       "   Test_Reported_Date  Case\n",
       "11         2020-11-08     1\n",
       "22         2020-11-12     1\n",
       "41         2020-11-18     1\n",
       "42         2020-10-25     1\n",
       "44         2020-11-09     1"
      ]
     },
     "execution_count": 42,
     "metadata": {},
     "output_type": "execute_result"
    }
   ],
   "source": [
    "df2[\"Case\"] = 1\n",
    "df2 = df2[['Test_Reported_Date', 'Case']]\n",
    "df2.head()"
   ]
  },
  {
   "cell_type": "code",
   "execution_count": 35,
   "metadata": {},
   "outputs": [
    {
     "data": {
      "text/plain": [
       "Test_Reported_Date\n",
       "2020-10-31    129\n",
       "2020-11-01    169\n",
       "2020-11-02    165\n",
       "2020-11-03    148\n",
       "2020-11-04    143\n",
       "2020-11-05    192\n",
       "2020-11-06    191\n",
       "2020-11-07    150\n",
       "2020-11-08    215\n",
       "2020-11-09    223\n",
       "2020-11-10    233\n",
       "2020-11-11    219\n",
       "2020-11-12    234\n",
       "2020-11-13    212\n",
       "2020-11-14    178\n",
       "2020-11-15    193\n",
       "2020-11-16    212\n",
       "2020-11-17    149\n",
       "2020-11-18    218\n",
       "2020-11-19     64\n",
       "Name: Case, dtype: int64"
      ]
     },
     "execution_count": 35,
     "metadata": {},
     "output_type": "execute_result"
    }
   ],
   "source": [
    "df3 = df2.groupby(['Test_Reported_Date'])['Case'].agg('sum')\n",
    "df3.tail(20)"
   ]
  },
  {
   "cell_type": "code",
   "execution_count": 53,
   "metadata": {},
   "outputs": [
    {
     "data": {
      "text/plain": [
       "Text(0.5, 1.0, 'Daily Sum of COVID-19 Cases in ONTARIO\\n Individuals <20 years')"
      ]
     },
     "execution_count": 53,
     "metadata": {},
     "output_type": "execute_result"
    },
    {
     "data": {
      "image/png": "[encoded data removed]",
      "text/plain": [
       "<Figure size 864x576 with 1 Axes>"
      ]
     },
     "metadata": {
      "needs_background": "light"
     },
     "output_type": "display_data"
    }
   ],
   "source": [
    "plt.figure(figsize=(12,8))\n",
    "\n",
    "df3.plot()\n",
    "plt.title(\"Daily Sum of COVID-19 Cases in ONTARIO\\n Individuals <20 years\")"
   ]
  },
  {
   "cell_type": "code",
   "execution_count": null,
   "metadata": {},
   "outputs": [],
   "source": []
  },
  {
   "cell_type": "code",
   "execution_count": 59,
   "metadata": {},
   "outputs": [
    {
     "data": {
      "text/html": [
       "<div>\n",
       "<style scoped>\n",
       "    .dataframe tbody tr th:only-of-type {\n",
       "        vertical-align: middle;\n",
       "    }\n",
       "\n",
       "    .dataframe tbody tr th {\n",
       "        vertical-align: top;\n",
       "    }\n",
       "\n",
       "    .dataframe thead th {\n",
       "        text-align: right;\n",
       "    }\n",
       "</style>\n",
       "<table border=\"1\" class=\"dataframe\">\n",
       "  <thead>\n",
       "    <tr style=\"text-align: right;\">\n",
       "      <th></th>\n",
       "      <th>Case</th>\n",
       "    </tr>\n",
       "  </thead>\n",
       "  <tbody>\n",
       "    <tr>\n",
       "      <th>2020-11-19</th>\n",
       "      <td>1</td>\n",
       "    </tr>\n",
       "    <tr>\n",
       "      <th>2020-11-19</th>\n",
       "      <td>1</td>\n",
       "    </tr>\n",
       "    <tr>\n",
       "      <th>2020-11-19</th>\n",
       "      <td>1</td>\n",
       "    </tr>\n",
       "    <tr>\n",
       "      <th>2020-11-19</th>\n",
       "      <td>1</td>\n",
       "    </tr>\n",
       "    <tr>\n",
       "      <th>2020-11-19</th>\n",
       "      <td>1</td>\n",
       "    </tr>\n",
       "  </tbody>\n",
       "</table>\n",
       "</div>"
      ],
      "text/plain": [
       "            Case\n",
       "2020-11-19     1\n",
       "2020-11-19     1\n",
       "2020-11-19     1\n",
       "2020-11-19     1\n",
       "2020-11-19     1"
      ]
     },
     "execution_count": 59,
     "metadata": {},
     "output_type": "execute_result"
    }
   ],
   "source": [
    "datetime_index = pd.DatetimeIndex(df2.Test_Reported_Date.values)\n",
    "df4 = df2.set_index(datetime_index)\n",
    "df4.drop('Test_Reported_Date', axis=1, inplace=True)\n",
    "df4 = df4.sort_index()\n",
    "df4.tail()"
   ]
  },
  {
   "cell_type": "code",
   "execution_count": 68,
   "metadata": {},
   "outputs": [
    {
     "data": {
      "text/plain": [
       "2020-10-25     900\n",
       "2020-11-01     945\n",
       "2020-11-08    1204\n",
       "2020-11-15    1492\n",
       "2020-11-22     643\n",
       "Freq: W-SUN, Name: Case, dtype: int64"
      ]
     },
     "execution_count": 68,
     "metadata": {},
     "output_type": "execute_result"
    }
   ],
   "source": [
    "weekly_sum = df4['Case'].resample(\"W\").sum()\n",
    "weekly_sum.tail()"
   ]
  },
  {
   "cell_type": "code",
   "execution_count": 69,
   "metadata": {},
   "outputs": [
    {
     "data": {
      "text/plain": [
       "<AxesSubplot:>"
      ]
     },
     "execution_count": 69,
     "metadata": {},
     "output_type": "execute_result"
    },
    {
     "data": {
      "image/png": "[encoded data removed]",
      "text/plain": [
       "<Figure size 432x288 with 1 Axes>"
      ]
     },
     "metadata": {
      "needs_background": "light"
     },
     "output_type": "display_data"
    }
   ],
   "source": [
    "weekly_sum.plot()"
   ]
  },
  {
   "cell_type": "code",
   "execution_count": 65,
   "metadata": {},
   "outputs": [],
   "source": [
    "df5 = df4.groupby(df4.index)['Case'].sum()"
   ]
  },
  {
   "cell_type": "code",
   "execution_count": 66,
   "metadata": {},
   "outputs": [
    {
     "data": {
      "text/plain": [
       "2020-06-01    29\n",
       "2020-06-02    28\n",
       "2020-06-03    31\n",
       "2020-06-04    37\n",
       "2020-06-05    29\n",
       "Name: Case, dtype: int64"
      ]
     },
     "execution_count": 66,
     "metadata": {},
     "output_type": "execute_result"
    }
   ],
   "source": [
    "df5.head()"
   ]
  },
  {
   "cell_type": "code",
   "execution_count": 67,
   "metadata": {},
   "outputs": [
    {
     "data": {
      "text/plain": [
       "<AxesSubplot:>"
      ]
     },
     "execution_count": 67,
     "metadata": {},
     "output_type": "execute_result"
    },
    {
     "data": {
      "image/png": "[encoded data removed]",
      "text/plain": [
       "<Figure size 432x288 with 1 Axes>"
      ]
     },
     "metadata": {
      "needs_background": "light"
     },
     "output_type": "display_data"
    }
   ],
   "source": [
    "df5.plot()"
   ]
  },
  {
   "cell_type": "code",
   "execution_count": 82,
   "metadata": {},
   "outputs": [
    {
     "data": {
      "text/plain": [
       "<AxesSubplot:>"
      ]
     },
     "execution_count": 82,
     "metadata": {},
     "output_type": "execute_result"
    },
    {
     "data": {
      "image/png": "[encoded data removed]",
      "text/plain": [
       "<Figure size 432x288 with 1 Axes>"
      ]
     },
     "metadata": {
      "needs_background": "light"
     },
     "output_type": "display_data"
    }
   ],
   "source": [
    "#df5 = pd.DataFrame(df5)\n",
    "weekly_mean = df5['Case'].resample(\"W\").mean()\n",
    "weekly_mean.plot()"
   ]
  },
  {
   "cell_type": "code",
   "execution_count": null,
   "metadata": {},
   "outputs": [],
   "source": [
    "\n"
   ]
  },
  {
   "cell_type": "code",
   "execution_count": 83,
   "metadata": {},
   "outputs": [
    {
     "data": {
      "text/plain": [
       "2020-09-20     58.857143\n",
       "2020-09-27     75.714286\n",
       "2020-10-04     94.428571\n",
       "2020-10-11    109.142857\n",
       "2020-10-18    109.857143\n",
       "2020-10-25    128.571429\n",
       "2020-11-01    135.000000\n",
       "2020-11-08    172.000000\n",
       "2020-11-15    213.142857\n",
       "2020-11-22    160.750000\n",
       "Freq: W-SUN, Name: Case, dtype: float64"
      ]
     },
     "execution_count": 83,
     "metadata": {},
     "output_type": "execute_result"
    }
   ],
   "source": [
    "weekly_mean.tail(10)"
   ]
  },
  {
   "cell_type": "code",
   "execution_count": null,
   "metadata": {},
   "outputs": [],
   "source": []
  }
 ],
 "metadata": {
  "kernelspec": {
   "display_name": "py37",
   "language": "python",
   "name": "py37"
  },
  "language_info": {
   "codemirror_mode": {
    "name": "ipython",
    "version": 3
   },
   "file_extension": ".py",
   "mimetype": "text/x-python",
   "name": "python",
   "nbconvert_exporter": "python",
   "pygments_lexer": "ipython3",
   "version": "3.7.9"
  }
 },
 "nbformat": 4,
 "nbformat_minor": 4
}
