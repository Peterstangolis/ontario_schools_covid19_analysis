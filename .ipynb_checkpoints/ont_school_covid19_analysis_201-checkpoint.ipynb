{
 "cells": [
  {
   "cell_type": "markdown",
   "metadata": {},
   "source": [
    "# ONTARIO SCHOOLS WITH COVID-19 CASES ANALYSIS\n",
    "## Peter Stangolis\n",
    "\n",
    "#### [Data URL:](https://data.ontario.ca/dataset/b1fef838-8784-4338-8ef9-ae7cfd405b41/resource/7fbdbb48-d074-45d9-93cb-f7de58950418/download/schoolcovidsummary.csv) "
   ]
  },
  {
   "cell_type": "markdown",
   "metadata": {},
   "source": [
    "## Graphical Data Exploration"
   ]
  },
  {
   "cell_type": "markdown",
   "metadata": {},
   "source": [
    "### Import the required libraries"
   ]
  },
  {
   "cell_type": "code",
   "execution_count": 4,
   "metadata": {},
   "outputs": [],
   "source": [
    "import pandas as pd\n",
    "import numpy as np\n",
    "\n",
    "import matplotlib.pyplot as plt\n",
    "import matplotlib.pylab as pylab\n",
    "from matplotlib.pyplot import figure\n",
    "\n",
    "from pylab import rcParams\n",
    "#rcParams['figure.figsize'] = 18, 6\n",
    "\n",
    "import datetime\n",
    "import seaborn as sns"
   ]
  },
  {
   "cell_type": "code",
   "execution_count": 5,
   "metadata": {},
   "outputs": [],
   "source": [
    "# Graph Style Settings:\n",
    "\n",
    "rcParams['figure.figsize'] = 18, 6\n",
    "\n",
    "plt.style.use('ggplot')\n",
    "\n",
    "%matplotlib inline"
   ]
  },
  {
   "cell_type": "markdown",
   "metadata": {},
   "source": [
    "### Import the cleaned data set "
   ]
  },
  {
   "cell_type": "code",
   "execution_count": 6,
   "metadata": {},
   "outputs": [
    {
     "data": {
      "text/html": [
       "<div>\n",
       "<style scoped>\n",
       "    .dataframe tbody tr th:only-of-type {\n",
       "        vertical-align: middle;\n",
       "    }\n",
       "\n",
       "    .dataframe tbody tr th {\n",
       "        vertical-align: top;\n",
       "    }\n",
       "\n",
       "    .dataframe thead th {\n",
       "        text-align: right;\n",
       "    }\n",
       "</style>\n",
       "<table border=\"1\" class=\"dataframe\">\n",
       "  <thead>\n",
       "    <tr style=\"text-align: right;\">\n",
       "      <th></th>\n",
       "      <th>reported_date</th>\n",
       "      <th>current_schools_w_cases</th>\n",
       "      <th>current_schools_closed</th>\n",
       "      <th>current_total_number_schools</th>\n",
       "      <th>new_total_school_related_cases</th>\n",
       "      <th>new_school_related_student_cases</th>\n",
       "      <th>new_school_related_staff_cases</th>\n",
       "      <th>new_school_related_unspecified_cases</th>\n",
       "      <th>recent_total_school_related_cases</th>\n",
       "      <th>cumulative_school_related_cases</th>\n",
       "      <th>cumulative_school_related_student_cases</th>\n",
       "      <th>cumulative_school_related_staff_cases</th>\n",
       "      <th>cumulative_school_related_unspecified_cases</th>\n",
       "    </tr>\n",
       "  </thead>\n",
       "  <tbody>\n",
       "    <tr>\n",
       "      <th>45</th>\n",
       "      <td>2020-11-16</td>\n",
       "      <td>683</td>\n",
       "      <td>1</td>\n",
       "      <td>4828</td>\n",
       "      <td>106</td>\n",
       "      <td>63</td>\n",
       "      <td>14</td>\n",
       "      <td>29.0</td>\n",
       "      <td>1143.0</td>\n",
       "      <td>3387</td>\n",
       "      <td>1913</td>\n",
       "      <td>423</td>\n",
       "      <td>1051.0</td>\n",
       "    </tr>\n",
       "    <tr>\n",
       "      <th>46</th>\n",
       "      <td>2020-11-17</td>\n",
       "      <td>670</td>\n",
       "      <td>1</td>\n",
       "      <td>4828</td>\n",
       "      <td>133</td>\n",
       "      <td>73</td>\n",
       "      <td>23</td>\n",
       "      <td>37.0</td>\n",
       "      <td>1126.0</td>\n",
       "      <td>3518</td>\n",
       "      <td>1985</td>\n",
       "      <td>445</td>\n",
       "      <td>1088.0</td>\n",
       "    </tr>\n",
       "    <tr>\n",
       "      <th>47</th>\n",
       "      <td>2020-11-18</td>\n",
       "      <td>670</td>\n",
       "      <td>3</td>\n",
       "      <td>4828</td>\n",
       "      <td>109</td>\n",
       "      <td>92</td>\n",
       "      <td>17</td>\n",
       "      <td>0.0</td>\n",
       "      <td>1121.0</td>\n",
       "      <td>3626</td>\n",
       "      <td>2077</td>\n",
       "      <td>461</td>\n",
       "      <td>1088.0</td>\n",
       "    </tr>\n",
       "    <tr>\n",
       "      <th>48</th>\n",
       "      <td>2020-11-19</td>\n",
       "      <td>680</td>\n",
       "      <td>3</td>\n",
       "      <td>4828</td>\n",
       "      <td>91</td>\n",
       "      <td>75</td>\n",
       "      <td>16</td>\n",
       "      <td>0.0</td>\n",
       "      <td>1143.0</td>\n",
       "      <td>3710</td>\n",
       "      <td>2147</td>\n",
       "      <td>476</td>\n",
       "      <td>1087.0</td>\n",
       "    </tr>\n",
       "    <tr>\n",
       "      <th>49</th>\n",
       "      <td>2020-11-20</td>\n",
       "      <td>681</td>\n",
       "      <td>3</td>\n",
       "      <td>4828</td>\n",
       "      <td>87</td>\n",
       "      <td>60</td>\n",
       "      <td>27</td>\n",
       "      <td>0.0</td>\n",
       "      <td>1150.0</td>\n",
       "      <td>3803</td>\n",
       "      <td>2209</td>\n",
       "      <td>507</td>\n",
       "      <td>1087.0</td>\n",
       "    </tr>\n",
       "  </tbody>\n",
       "</table>\n",
       "</div>"
      ],
      "text/plain": [
       "   reported_date  current_schools_w_cases  current_schools_closed  \\\n",
       "45    2020-11-16                      683                       1   \n",
       "46    2020-11-17                      670                       1   \n",
       "47    2020-11-18                      670                       3   \n",
       "48    2020-11-19                      680                       3   \n",
       "49    2020-11-20                      681                       3   \n",
       "\n",
       "    current_total_number_schools  new_total_school_related_cases  \\\n",
       "45                          4828                             106   \n",
       "46                          4828                             133   \n",
       "47                          4828                             109   \n",
       "48                          4828                              91   \n",
       "49                          4828                              87   \n",
       "\n",
       "    new_school_related_student_cases  new_school_related_staff_cases  \\\n",
       "45                                63                              14   \n",
       "46                                73                              23   \n",
       "47                                92                              17   \n",
       "48                                75                              16   \n",
       "49                                60                              27   \n",
       "\n",
       "    new_school_related_unspecified_cases  recent_total_school_related_cases  \\\n",
       "45                                  29.0                             1143.0   \n",
       "46                                  37.0                             1126.0   \n",
       "47                                   0.0                             1121.0   \n",
       "48                                   0.0                             1143.0   \n",
       "49                                   0.0                             1150.0   \n",
       "\n",
       "    cumulative_school_related_cases  cumulative_school_related_student_cases  \\\n",
       "45                             3387                                     1913   \n",
       "46                             3518                                     1985   \n",
       "47                             3626                                     2077   \n",
       "48                             3710                                     2147   \n",
       "49                             3803                                     2209   \n",
       "\n",
       "    cumulative_school_related_staff_cases  \\\n",
       "45                                    423   \n",
       "46                                    445   \n",
       "47                                    461   \n",
       "48                                    476   \n",
       "49                                    507   \n",
       "\n",
       "    cumulative_school_related_unspecified_cases  \n",
       "45                                       1051.0  \n",
       "46                                       1088.0  \n",
       "47                                       1088.0  \n",
       "48                                       1087.0  \n",
       "49                                       1087.0  "
      ]
     },
     "execution_count": 6,
     "metadata": {},
     "output_type": "execute_result"
    }
   ],
   "source": [
    "df = pd.read_csv(\"ont_school_covid19_101.csv\")\n",
    "\n",
    "df.tail()"
   ]
  },
  {
   "cell_type": "markdown",
   "metadata": {},
   "source": [
    "## Initial Line Plot of Cumulative Cases from Sept - Nov 2020"
   ]
  },
  {
   "cell_type": "code",
   "execution_count": 9,
   "metadata": {},
   "outputs": [
    {
     "data": {
      "text/plain": [
       "<AxesSubplot:>"
      ]
     },
     "execution_count": 9,
     "metadata": {},
     "output_type": "execute_result"
    },
    {
     "data": {
      "image/png": "[encoded data removed]",
      "text/plain": [
       "<Figure size 1008x504 with 1 Axes>"
      ]
     },
     "metadata": {},
     "output_type": "display_data"
    }
   ],
   "source": [
    "sns.set(rc={'figure.figsize':(14, 7)})\n",
    "\n",
    "df['cumulative_school_related_cases'].plot(linewidth=1.2)"
   ]
  },
  {
   "cell_type": "code",
   "execution_count": null,
   "metadata": {},
   "outputs": [],
   "source": []
  }
 ],
 "metadata": {
  "kernelspec": {
   "display_name": "py37",
   "language": "python",
   "name": "py37"
  },
  "language_info": {
   "codemirror_mode": {
    "name": "ipython",
    "version": 3
   },
   "file_extension": ".py",
   "mimetype": "text/x-python",
   "name": "python",
   "nbconvert_exporter": "python",
   "pygments_lexer": "ipython3",
   "version": "3.7.9"
  }
 },
 "nbformat": 4,
 "nbformat_minor": 4
}
